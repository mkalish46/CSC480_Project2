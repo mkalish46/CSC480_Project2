{
  "cells": [
    {
      "cell_type": "markdown",
      "metadata": {
        "id": "view-in-github",
        "colab_type": "text"
      },
      "source": [
        "<a href=\"https://colab.research.google.com/github/mkalish46/CSC480_Project2/blob/main/Project_4.ipynb\" target=\"_parent\"><img src=\"https://colab.research.google.com/assets/colab-badge.svg\" alt=\"Open In Colab\"/></a>"
      ]
    },
    {
      "cell_type": "markdown",
      "metadata": {
        "id": "fQBICFxg4Afa"
      },
      "source": [
        "[link text](https://)# Computer Vision – Spaceship Localization\n",
        "\n",
        "**Problem:**\n",
        "\n",
        "Your task is to build a convolutional neural network (CNN) that can detect a single spaceship in a noisy grayscale image. Every image will contain **exactly one spaceship**. Your model will take a 200×200 single-channel image as input and predict **five real-valued parameters** describing the spaceship's location, orientation, and size:\n",
        "\n",
        "* **X, Y** position of the spaceship (center of the bounding box)\n",
        "* **Yaw**, the orientation (heading) in radians\n",
        "* **Width**, the size across the axis perpendicular to yaw\n",
        "* **Height**, the size along the direction of yaw\n",
        "\n",
        "---\n",
        "\n",
        "**What You Must Do:**\n",
        "\n",
        "We have provided the dataset generation, loss function, training loop, and evaluation script. Your **only responsibility** is to write a good CNN in the function:\n",
        "\n",
        "```python\n",
        "def gen_model(image_size=200):\n",
        "    ...\n",
        "```\n",
        "\n",
        "This function must return a `tf.keras.Model` that:\n",
        "\n",
        "* Accepts shape `(200, 200)`\n",
        "* Outputs shape `(5,)` with real-valued predictions for `[x, y, yaw, width, height]`\n",
        "\n",
        "---\n",
        "\n",
        "**Deliverables:**\n",
        "\n",
        "1. Your final version of `gen_model(...)` just paste that one function into colab.\n",
        "\n",
        "\n",
        "---\n",
        "\n",
        "**Starter Code Provided:**\n",
        "\n",
        "* `make_data()` generates labeled training and test data\n",
        "* `train_model(...)` trains your model using MSE loss\n",
        "* `evaluate_model(...)` reports AP\\@0.7 on 1000 test samples\n",
        "* `show_examples()` visualizes sample images and ground truth labels\n",
        "\n",
        "You are only modifying `gen_model(...)`.\n",
        "\n",
        "---\n",
        "\n",
        "### ⚡️ Google Colab Note:\n",
        "\n",
        "If you're working in **Google Colab**, make sure to:\n",
        "\n",
        "1. Click `Runtime` → `Change runtime type`\n",
        "2. Set **Hardware Accelerator** to **GPU**\n",
        "3. Click **Save**\n",
        "\n",
        "This will significantly speed up your training.\n",
        "\n"
      ]
    },
    {
      "cell_type": "markdown",
      "metadata": {
        "id": "STuX-J0251oO"
      },
      "source": [
        "\n",
        "\n",
        "### 📐 Geometry Module (`_rotation`, `_make_box_pts`, `_make_spaceship`)\n",
        "\n",
        "#### Purpose:\n",
        "\n",
        "These helper functions generate and transform the geometry of the spaceship and its bounding box.\n",
        "\n",
        "#### Functions:\n",
        "\n",
        "* **`_rotation(pts, theta)`**\n",
        "  Rotates a set of 2D points `pts` by `theta` radians counterclockwise.\n",
        "\n",
        "* **`_make_box_pts(x, y, yaw, w, h)`**\n",
        "  Returns the four corner points of a rotated bounding box:\n",
        "\n",
        "  * Centered at `(x, y)`\n",
        "  * Rotated by `yaw`\n",
        "  * With width `w` (across the yaw direction)\n",
        "  * And height `h` (along the yaw direction)\n",
        "\n",
        "* **`_make_spaceship(pos, yaw, scale, l2w, t2l)`**\n",
        "  Generates a simple triangular spaceship shape based on:\n",
        "\n",
        "  * `pos`: the center position (x, y)\n",
        "  * `yaw`: orientation in radians\n",
        "  * `scale`: overall size of the spaceship\n",
        "  * `l2w`: length-to-width ratio\n",
        "  * `t2l`: tip-to-length ratio\n",
        "\n",
        "  Returns:\n",
        "\n",
        "  * A set of 2D points forming the spaceship polygon\n",
        "  * The label vector `[x, y, yaw, width, height]` representing its bounding box\n",
        "\n",
        "---\n",
        "\n",
        "### 🧪 Data Generation (`make_data`)\n",
        "\n",
        "#### Purpose:\n",
        "\n",
        "Creates synthetic training and test images, each containing exactly one spaceship with no noise.\n",
        "\n",
        "#### Function:\n",
        "\n",
        "* **`make_data(image_size=200)`**\n",
        "\n",
        "  * Randomly places and rotates a spaceship within a 200×200 image.\n",
        "  * Spaceship is drawn using its polygon perimeter with full contrast (value = 1.0).\n",
        "  * No background noise or occlusions are added.\n",
        "\n",
        "  Returns:\n",
        "\n",
        "  * A 2D numpy array representing the grayscale image (shape: 200×200).\n",
        "  * A label vector: `[x, y, yaw, width, height]`.\n",
        "\n",
        "---\n",
        "\n",
        "### 📏 IoU Scoring (`score_iou`)\n",
        "\n",
        "#### Purpose:\n",
        "\n",
        "Evaluates how closely a predicted bounding box matches the ground truth, using **Intersection over Union (IoU)**.\n",
        "\n",
        "#### Function:\n",
        "\n",
        "* **`score_iou(ypred, ytrue)`**\n",
        "\n",
        "  * Converts both predictions and ground truth into polygon bounding boxes.\n",
        "  * Uses the Shapely library to compute:\n",
        "\n",
        "    ```\n",
        "    IoU = Area of Intersection / Area of Union\n",
        "    ```\n",
        "  * Returns:\n",
        "\n",
        "    * A float in `[0.0, 1.0]` if both boxes are valid\n",
        "    * `0.0` if either input is invalid (contains NaNs)\n",
        "\n",
        "---\n",
        "\n",
        "### 🧾 Summary\n",
        "\n",
        "| Component         | Role                                        |\n",
        "| ----------------- | ------------------------------------------- |\n",
        "| `_rotation`       | Applies 2D rotation matrix                  |\n",
        "| `_make_box_pts`   | Computes corners of a rotated bounding box  |\n",
        "| `_make_spaceship` | Defines a triangle-shaped spaceship         |\n",
        "| `make_data`       | Generates labeled training images           |\n",
        "| `score_iou`       | Quantifies bounding box prediction accuracy |\n",
        "\n",
        "---\n",
        "\n"
      ]
    },
    {
      "cell_type": "code",
      "execution_count": null,
      "metadata": {
        "id": "npZH10tv16rk"
      },
      "outputs": [],
      "source": [
        "import numpy as np\n",
        "import matplotlib.pyplot as plt\n",
        "from skimage.draw import polygon_perimeter\n",
        "from shapely.geometry import Polygon\n",
        "from tensorflow.keras.models import Sequential\n",
        "from tensorflow.keras.layers import Conv2D, MaxPool2D, BatchNormalization, Activation, Reshape, Flatten, Dense\n",
        "from tensorflow.keras.optimizers import Adam\n",
        "from tensorflow.keras.losses import MeanSquaredError\n",
        "from tensorflow import keras\n",
        "from tqdm import tqdm\n",
        "\n",
        "\n",
        "# === GEOMETRY ===\n",
        "def _rotation(pts, theta):\n",
        "    r = np.array([[np.cos(theta), -np.sin(theta)], [np.sin(theta), np.cos(theta)]])\n",
        "    return pts @ r\n",
        "\n",
        "def _make_box_pts(x, y, yaw, w, h):\n",
        "    hx, hy = w / 2, h / 2\n",
        "    box = np.array([[-hx, -hy], [-hx, hy], [hx, hy], [hx, -hy]])\n",
        "    box = _rotation(box, yaw)\n",
        "    box += (x, y)\n",
        "    return box\n",
        "\n",
        "def _make_spaceship(pos, yaw, scale, l2w, t2l):\n",
        "    dim_x, dim_y = scale, scale * l2w\n",
        "    pts = np.array([\n",
        "        (0, dim_y),\n",
        "        (-dim_x / 2, 0),\n",
        "        (0, dim_y * t2l),\n",
        "        (dim_x / 2, 0),\n",
        "    ])\n",
        "    pts[:, 1] -= dim_y / 2\n",
        "    pts = _rotation(pts, yaw)\n",
        "    pts += pos\n",
        "    return pts, np.array([*pos, yaw, dim_x, dim_y])\n",
        "\n",
        "\n",
        "# === DATA ===\n",
        "def make_data(image_size=200, noise_level=0.0, salt_pepper_prob=0.0, no_lines=0):\n",
        "    img = np.zeros((image_size, image_size))\n",
        "    pos = np.random.randint(20, image_size - 20, size=2)\n",
        "    yaw = np.random.rand() * 2 * np.pi\n",
        "\n",
        "    # Vary the ship scale and aspect ratios\n",
        "    scale = np.random.uniform(20, 36)       # Base size\n",
        "    l2w = np.random.uniform(1.2, 2.0)        # Length-to-width\n",
        "    t2l = np.random.uniform(0.2, 0.5)        # Tip-to-length\n",
        "\n",
        "    pts, label = _make_spaceship(pos, yaw, scale, l2w, t2l)\n",
        "\n",
        "    rr, cc = polygon_perimeter(pts[:, 0], pts[:, 1])\n",
        "    valid = (rr >= 0) & (rr < image_size) & (cc >= 0) & (cc < image_size)\n",
        "    img[rr[valid], cc[valid]] = 1.0\n",
        "\n",
        "    # Add Gaussian noise\n",
        "    if noise_level > 0:\n",
        "        img += np.random.normal(0.0, noise_level, img.shape)\n",
        "\n",
        "    # Salt and pepper\n",
        "    if salt_pepper_prob > 0:\n",
        "        rand = np.random.rand(*img.shape)\n",
        "        img[rand < (salt_pepper_prob / 2)] = 1.0\n",
        "        img[rand > (1 - salt_pepper_prob / 2)] = 0.0\n",
        "\n",
        "    # Line noise\n",
        "    for _ in range(no_lines):\n",
        "        x1, y1 = np.random.randint(0, image_size, 2)\n",
        "        x2, y2 = np.random.randint(0, image_size, 2)\n",
        "        num_points = max(abs(x2 - x1), abs(y2 - y1))\n",
        "        xs = np.linspace(x1, x2, num_points).astype(np.int32)\n",
        "        ys = np.linspace(y1, y2, num_points).astype(np.int32)\n",
        "        xs = np.clip(xs, 0, image_size - 1)\n",
        "        ys = np.clip(ys, 0, image_size - 1)\n",
        "        img[ys, xs] = 1.0\n",
        "\n",
        "    img = np.clip(img, 0.0, 1.0)\n",
        "\n",
        "    return img.T, label\n",
        "\n",
        "\n",
        "\n",
        "\n",
        "\n",
        "def score_iou(ypred, ytrue):\n",
        "    if np.isnan(ypred).any() or np.isnan(ytrue).any():\n",
        "        return 0.0\n",
        "    p = Polygon(_make_box_pts(*ypred))\n",
        "    t = Polygon(_make_box_pts(*ytrue))\n",
        "    return p.intersection(t).area / p.union(t).area\n"
      ]
    },
    {
      "cell_type": "markdown",
      "metadata": {
        "id": "Zc2uIzYA5-di"
      },
      "source": [
        "\n",
        "### 📦 Batch Generator (`make_batch`)\n",
        "\n",
        "#### Purpose:\n",
        "\n",
        "Generates a mini-batch of synthetic training data consisting of clean spaceship images and corresponding labels.\n",
        "\n",
        "#### Function Signature:\n",
        "\n",
        "```python\n",
        "def make_batch(batch_size, image_size=200)\n",
        "```\n",
        "\n",
        "#### Parameters:\n",
        "\n",
        "* **`batch_size`** (`int`):\n",
        "  The number of training samples (images and labels) to generate in this batch.\n",
        "\n",
        "* **`image_size`** (`int`, default = `200`):\n",
        "  The height and width of each square image (in pixels). The model expects 200×200 inputs.\n",
        "\n",
        "#### Returns:\n",
        "\n",
        "* **`imgs`** (`np.ndarray`):\n",
        "  A 3D NumPy array of shape `(batch_size, image_size, image_size)` containing grayscale images with a visible spaceship.\n",
        "\n",
        "* **`labels`** (`np.ndarray`):\n",
        "  A 2D NumPy array of shape `(batch_size, 5)`, where each row is a label vector:\n",
        "  `[x, y, yaw, width, height]`.\n",
        "\n"
      ]
    },
    {
      "cell_type": "code",
      "execution_count": null,
      "metadata": {
        "id": "Y8rnt71e2EV0"
      },
      "outputs": [],
      "source": [
        "def make_batch(batch_size, image_size=200):\n",
        "    imgs, labels = zip(*[make_data(image_size) for _ in range(batch_size)])\n",
        "    return np.stack(imgs), np.stack(labels)"
      ]
    },
    {
      "cell_type": "markdown",
      "metadata": {
        "id": "MoMwi8fl6C9s"
      },
      "source": [
        "\n",
        "\n",
        "---\n",
        "\n",
        "### 🏋️ Model Training (`train_model`)\n",
        "\n",
        "#### Purpose:\n",
        "\n",
        "Trains a convolutional neural network to predict the bounding box and orientation of a spaceship in a clean 200×200 grayscale image.\n",
        "\n",
        "#### Function Signature:\n",
        "\n",
        "```python\n",
        "def train_model(batch_size=64, epochs=10, image_size=200, model_path=\"model.h5\")\n",
        "```\n",
        "\n",
        "#### Parameters:\n",
        "\n",
        "* **`batch_size`** (`int`, default=`64`):\n",
        "  Number of training samples per gradient update.\n",
        "\n",
        "* **`epochs`** (`int`, default=`10`):\n",
        "  Number of times the model sees the entire training set.\n",
        "\n",
        "* **`image_size`** (`int`, default=`200`):\n",
        "  Size of the input image (height and width in pixels).\n",
        "\n",
        "* **`model_path`** (`str`, default=`\"model.h5\"`):\n",
        "  Path to save the trained model after training.\n",
        "\n",
        "#### Description:\n",
        "\n",
        "This function performs the full training cycle:\n",
        "\n",
        "1. Calls `gen_model(image_size)` to instantiate the student-designed model.\n",
        "2. Compiles the model using **Adam** optimizer and **Mean Squared Error** loss (for regression).\n",
        "3. Trains the model using a data generator that yields batches from `make_batch(...)`.\n",
        "4. Saves the trained model in HDF5 format at the specified `model_path`.\n",
        "\n",
        "The generator-based training setup allows for infinite synthetic data without manual dataset management.\n",
        "\n",
        "#### Notes:\n",
        "\n",
        "* The output layer should return 5 values: `[x, y, yaw, width, height]`.\n",
        "* Training is done for `100` steps per epoch with randomized synthetic data.\n",
        "* Ideal for use in Google Colab with GPU runtime for speed.\n",
        "\n",
        "#### Returns:\n",
        "\n",
        "None (but saves model to disk and prints a confirmation)."
      ]
    },
    {
      "cell_type": "code",
      "execution_count": null,
      "metadata": {
        "id": "vkzWozXT2Csn"
      },
      "outputs": [],
      "source": [
        "\n",
        "# === TRAIN ===\n",
        "def train_model(batch_size=64, epochs=10, image_size=200, model_path=\"model.h5\"):\n",
        "    model = gen_model(image_size)\n",
        "    model.compile(optimizer=Adam(), loss=MeanSquaredError())\n",
        "    model.summary()\n",
        "\n",
        "    def generator():\n",
        "        while True:\n",
        "            yield make_batch(batch_size, image_size)\n",
        "\n",
        "    model.fit(generator(), steps_per_epoch=100, epochs=epochs)\n",
        "    model.save(model_path)\n",
        "    print(f\"✅ Model saved to {model_path}\")"
      ]
    },
    {
      "cell_type": "markdown",
      "metadata": {
        "id": "tCmDyra46ItP"
      },
      "source": [
        "\n",
        "### ✅ Model Evaluation (`evaluate_model`)\n",
        "\n",
        "#### Purpose:\n",
        "\n",
        "Measures how well the trained model predicts bounding boxes and orientation using **Average Precision at IoU ≥ 0.7**.\n",
        "\n",
        "#### Function Signature:\n",
        "\n",
        "```python\n",
        "def evaluate_model(model_path=\"model.h5\", image_size=200)\n",
        "```\n",
        "\n",
        "#### Parameters:\n",
        "\n",
        "* **`model_path`** (`str`, default=`\"model.h5\"`):\n",
        "  Path to the saved trained model file (HDF5 format).\n",
        "\n",
        "* **`image_size`** (`int`, default=`200`):\n",
        "  Size of the input image used during training and evaluation.\n",
        "\n",
        "#### Description:\n",
        "\n",
        "1. Loads the trained model from disk.\n",
        "2. Runs the model on **100 clean test images** generated by `make_data(...)`.\n",
        "3. Computes the **IoU** between the predicted and true bounding boxes using `score_iou(...)`.\n",
        "4. Computes the **Average Precision (AP)** at IoU threshold **0.7**:\n",
        "\n",
        "   ```\n",
        "   AP@0.7 = (# of IoUs > 0.7) / total\n",
        "   ```\n",
        "5. Prints the result to the console.\n",
        "\n",
        "#### Output:\n",
        "\n",
        "* Console output only. Prints something like:\n",
        "\n",
        "  ```\n",
        "  📈 AP@0.7 = 0.8900\n",
        "  ```\n",
        "\n",
        "#### Notes:\n",
        "\n",
        "* This evaluation assumes **every image has a spaceship** (no false negative logic needed).\n",
        "* Higher AP indicates better spatial accuracy of your bounding box predictions.\n",
        "\n",
        "---\n",
        "\n",
        "### 👀 Visualization (`show_examples`)\n",
        "\n",
        "#### Purpose:\n",
        "\n",
        "Displays a few synthetic spaceship images along with their ground-truth bounding boxes for visual inspection.\n",
        "\n",
        "#### Function Signature:\n",
        "\n",
        "```python\n",
        "def show_examples(image_size=200)\n",
        "```\n",
        "\n",
        "#### Parameters:\n",
        "\n",
        "* **`image_size`** (`int`, default=`200`):\n",
        "  Size of each generated image.\n",
        "\n",
        "#### Description:\n",
        "\n",
        "1. Generates 3 clean spaceship images using `make_data(...)`.\n",
        "2. Uses Matplotlib to render the image.\n",
        "3. Overlays the true bounding box (in red) using `matplotlib.plot()` and `scatter()`.\n",
        "\n",
        "#### Output:\n",
        "\n",
        "* Pops up a Matplotlib window (or uses inline output in Colab).\n",
        "* Each subplot shows:\n",
        "\n",
        "  * A grayscale image\n",
        "  * Red box showing spaceship boundary\n",
        "  * Red dot for the center\n",
        "\n"
      ]
    },
    {
      "cell_type": "code",
      "execution_count": null,
      "metadata": {
        "id": "jpROG4ZG1_io"
      },
      "outputs": [],
      "source": [
        "# === EVAL ===\n",
        "def evaluate_model(model_path=\"model.h5\", image_size=200):\n",
        "    model = keras.models.load_model(model_path)\n",
        "    ious = []\n",
        "\n",
        "    for _ in tqdm(range(100)):\n",
        "        img, label = make_data(image_size=image_size)\n",
        "        pred = np.squeeze(model.predict(img[None]))\n",
        "        ious.append(score_iou(pred, label))\n",
        "\n",
        "    ious = np.array(ious)\n",
        "    ap = (ious > 0.7).mean()\n",
        "    print(f\"📈 AP@0.7 = {ap:.4f}\")\n",
        "\n",
        "\n",
        "def show_examples(model, image_size=200):\n",
        "    fig, ax = plt.subplots(1, 3, figsize=(12, 4))\n",
        "    for i in range(3):\n",
        "        img, label = make_data(image_size=image_size)\n",
        "        pred = np.squeeze(model.predict(img[None]))\n",
        "\n",
        "        ax[i].imshow(img, cmap=\"gray\")\n",
        "        ax[i].set_title(\"Red = True, Blue = Pred\")\n",
        "\n",
        "        # Draw ground truth in red\n",
        "        if not np.isnan(label).any():\n",
        "            pts_true = _make_box_pts(*label)\n",
        "            ax[i].plot(pts_true[:, 0], pts_true[:, 1], c=\"red\")\n",
        "            ax[i].scatter(label[0], label[1], c=\"red\")\n",
        "\n",
        "        # Draw prediction in blue\n",
        "        if not np.isnan(pred).any():\n",
        "            pts_pred = _make_box_pts(*pred)\n",
        "            ax[i].plot(pts_pred[:, 0], pts_pred[:, 1], c=\"blue\", linestyle='--')\n",
        "            ax[i].scatter(pred[0], pred[1], c=\"blue\", marker='x')\n",
        "\n",
        "    plt.tight_layout()\n",
        "    plt.show()\n",
        "\n"
      ]
    },
    {
      "cell_type": "markdown",
      "metadata": {
        "id": "Zt3S7Thr6YIB"
      },
      "source": [
        "### 🧠 Model Architecture — `gen_model(...)`\n",
        "\n",
        "> **💡 This is your only task.**\n",
        "\n",
        "#### Purpose:\n",
        "\n",
        "Design a convolutional neural network (CNN) that predicts the location, orientation, and size of a spaceship from a clean 200×200 grayscale image.\n",
        "\n",
        "#### Function Signature:\n",
        "\n",
        "```python\n",
        "def gen_model(image_size=200)\n",
        "```\n",
        "\n",
        "#### Input:\n",
        "\n",
        "* A single grayscale image of shape `(image_size, image_size)` — default is `200×200`.\n",
        "\n",
        "#### Output:\n",
        "\n",
        "* A tensor of shape `(5,)` representing the predicted real-valued parameters:\n",
        "  `[x, y, yaw, width, height]`\n",
        "\n",
        "---\n",
        "\n",
        "### 📌 Your Assignment:\n",
        "\n",
        "You must define the architecture inside `gen_model(...)` using Keras layers.\n",
        "\n",
        "You are free to decide:\n",
        "\n",
        "* How many convolutional layers to use\n",
        "* How many filters per layer\n",
        "* Where and when to apply:\n",
        "\n",
        "  * Batch normalization\n",
        "  * Max pooling\n",
        "  * Flattening\n",
        "  * Dropout (optional)\n",
        "* The structure of the final Dense output\n",
        "\n",
        "---\n",
        "\n",
        "### ✅ Requirements:\n",
        "\n",
        "* Your model must return a `Sequential` Keras model.\n",
        "* The output shape must be `(5,)` with **no activation** (pure real-valued outputs).\n",
        "* Keep the number of **trainable parameters under 2 million**.\n",
        "* Use only standard Keras layers — no external libraries.\n",
        "* The rest of the training and evaluation pipeline has already been implemented for you.\n",
        "\n",
        "\n",
        "\n"
      ]
    },
    {
      "cell_type": "code",
      "execution_count": null,
      "metadata": {
        "id": "FRg79qAB5r4c"
      },
      "outputs": [],
      "source": [
        "# === MODEL ===\n",
        "###This is you only task\n",
        "def gen_model(image_size=200):\n",
        "    model = Sequential()\n",
        "    model.add(Reshape((image_size, image_size, 1), input_shape=(image_size, image_size)))\n",
        "    #build your model here\n",
        "\n",
        "    model.add(Flatten())\n",
        "    model.add(Dense(5))\n",
        "    return model\n"
      ]
    },
    {
      "cell_type": "code",
      "execution_count": null,
      "metadata": {
        "colab": {
          "base_uri": "https://localhost:8080/",
          "height": 1000
        },
        "id": "nPAmws1B1-0z",
        "outputId": "9d5da13c-811a-46e8-83d6-d65f8b86813c"
      },
      "outputs": [
        {
          "output_type": "display_data",
          "data": {
            "text/plain": [
              "\u001b[1mModel: \"sequential_4\"\u001b[0m\n"
            ],
            "text/html": [
              "<pre style=\"white-space:pre;overflow-x:auto;line-height:normal;font-family:Menlo,'DejaVu Sans Mono',consolas,'Courier New',monospace\"><span style=\"font-weight: bold\">Model: \"sequential_4\"</span>\n",
              "</pre>\n"
            ]
          },
          "metadata": {}
        },
        {
          "output_type": "display_data",
          "data": {
            "text/plain": [
              "┏━━━━━━━━━━━━━━━━━━━━━━━━━━━━━━━━━┳━━━━━━━━━━━━━━━━━━━━━━━━┳━━━━━━━━━━━━━━━┓\n",
              "┃\u001b[1m \u001b[0m\u001b[1mLayer (type)                   \u001b[0m\u001b[1m \u001b[0m┃\u001b[1m \u001b[0m\u001b[1mOutput Shape          \u001b[0m\u001b[1m \u001b[0m┃\u001b[1m \u001b[0m\u001b[1m      Param #\u001b[0m\u001b[1m \u001b[0m┃\n",
              "┡━━━━━━━━━━━━━━━━━━━━━━━━━━━━━━━━━╇━━━━━━━━━━━━━━━━━━━━━━━━╇━━━━━━━━━━━━━━━┩\n",
              "│ reshape_4 (\u001b[38;5;33mReshape\u001b[0m)             │ (\u001b[38;5;45mNone\u001b[0m, \u001b[38;5;34m200\u001b[0m, \u001b[38;5;34m200\u001b[0m, \u001b[38;5;34m1\u001b[0m)    │             \u001b[38;5;34m0\u001b[0m │\n",
              "├─────────────────────────────────┼────────────────────────┼───────────────┤\n",
              "│ flatten_4 (\u001b[38;5;33mFlatten\u001b[0m)             │ (\u001b[38;5;45mNone\u001b[0m, \u001b[38;5;34m40000\u001b[0m)          │             \u001b[38;5;34m0\u001b[0m │\n",
              "├─────────────────────────────────┼────────────────────────┼───────────────┤\n",
              "│ dense_4 (\u001b[38;5;33mDense\u001b[0m)                 │ (\u001b[38;5;45mNone\u001b[0m, \u001b[38;5;34m5\u001b[0m)              │       \u001b[38;5;34m200,005\u001b[0m │\n",
              "└─────────────────────────────────┴────────────────────────┴───────────────┘\n"
            ],
            "text/html": [
              "<pre style=\"white-space:pre;overflow-x:auto;line-height:normal;font-family:Menlo,'DejaVu Sans Mono',consolas,'Courier New',monospace\">┏━━━━━━━━━━━━━━━━━━━━━━━━━━━━━━━━━┳━━━━━━━━━━━━━━━━━━━━━━━━┳━━━━━━━━━━━━━━━┓\n",
              "┃<span style=\"font-weight: bold\"> Layer (type)                    </span>┃<span style=\"font-weight: bold\"> Output Shape           </span>┃<span style=\"font-weight: bold\">       Param # </span>┃\n",
              "┡━━━━━━━━━━━━━━━━━━━━━━━━━━━━━━━━━╇━━━━━━━━━━━━━━━━━━━━━━━━╇━━━━━━━━━━━━━━━┩\n",
              "│ reshape_4 (<span style=\"color: #0087ff; text-decoration-color: #0087ff\">Reshape</span>)             │ (<span style=\"color: #00d7ff; text-decoration-color: #00d7ff\">None</span>, <span style=\"color: #00af00; text-decoration-color: #00af00\">200</span>, <span style=\"color: #00af00; text-decoration-color: #00af00\">200</span>, <span style=\"color: #00af00; text-decoration-color: #00af00\">1</span>)    │             <span style=\"color: #00af00; text-decoration-color: #00af00\">0</span> │\n",
              "├─────────────────────────────────┼────────────────────────┼───────────────┤\n",
              "│ flatten_4 (<span style=\"color: #0087ff; text-decoration-color: #0087ff\">Flatten</span>)             │ (<span style=\"color: #00d7ff; text-decoration-color: #00d7ff\">None</span>, <span style=\"color: #00af00; text-decoration-color: #00af00\">40000</span>)          │             <span style=\"color: #00af00; text-decoration-color: #00af00\">0</span> │\n",
              "├─────────────────────────────────┼────────────────────────┼───────────────┤\n",
              "│ dense_4 (<span style=\"color: #0087ff; text-decoration-color: #0087ff\">Dense</span>)                 │ (<span style=\"color: #00d7ff; text-decoration-color: #00d7ff\">None</span>, <span style=\"color: #00af00; text-decoration-color: #00af00\">5</span>)              │       <span style=\"color: #00af00; text-decoration-color: #00af00\">200,005</span> │\n",
              "└─────────────────────────────────┴────────────────────────┴───────────────┘\n",
              "</pre>\n"
            ]
          },
          "metadata": {}
        },
        {
          "output_type": "display_data",
          "data": {
            "text/plain": [
              "\u001b[1m Total params: \u001b[0m\u001b[38;5;34m200,005\u001b[0m (781.27 KB)\n"
            ],
            "text/html": [
              "<pre style=\"white-space:pre;overflow-x:auto;line-height:normal;font-family:Menlo,'DejaVu Sans Mono',consolas,'Courier New',monospace\"><span style=\"font-weight: bold\"> Total params: </span><span style=\"color: #00af00; text-decoration-color: #00af00\">200,005</span> (781.27 KB)\n",
              "</pre>\n"
            ]
          },
          "metadata": {}
        },
        {
          "output_type": "display_data",
          "data": {
            "text/plain": [
              "\u001b[1m Trainable params: \u001b[0m\u001b[38;5;34m200,005\u001b[0m (781.27 KB)\n"
            ],
            "text/html": [
              "<pre style=\"white-space:pre;overflow-x:auto;line-height:normal;font-family:Menlo,'DejaVu Sans Mono',consolas,'Courier New',monospace\"><span style=\"font-weight: bold\"> Trainable params: </span><span style=\"color: #00af00; text-decoration-color: #00af00\">200,005</span> (781.27 KB)\n",
              "</pre>\n"
            ]
          },
          "metadata": {}
        },
        {
          "output_type": "display_data",
          "data": {
            "text/plain": [
              "\u001b[1m Non-trainable params: \u001b[0m\u001b[38;5;34m0\u001b[0m (0.00 B)\n"
            ],
            "text/html": [
              "<pre style=\"white-space:pre;overflow-x:auto;line-height:normal;font-family:Menlo,'DejaVu Sans Mono',consolas,'Courier New',monospace\"><span style=\"font-weight: bold\"> Non-trainable params: </span><span style=\"color: #00af00; text-decoration-color: #00af00\">0</span> (0.00 B)\n",
              "</pre>\n"
            ]
          },
          "metadata": {}
        },
        {
          "output_type": "stream",
          "name": "stdout",
          "text": [
            "Epoch 1/10\n",
            "\u001b[1m100/100\u001b[0m \u001b[32m━━━━━━━━━━━━━━━━━━━━\u001b[0m\u001b[37m\u001b[0m \u001b[1m9s\u001b[0m 80ms/step - loss: 5274.3955\n",
            "Epoch 2/10\n",
            "\u001b[1m100/100\u001b[0m \u001b[32m━━━━━━━━━━━━━━━━━━━━\u001b[0m\u001b[37m\u001b[0m \u001b[1m8s\u001b[0m 78ms/step - loss: 4796.4238\n",
            "Epoch 3/10\n",
            "\u001b[1m100/100\u001b[0m \u001b[32m━━━━━━━━━━━━━━━━━━━━\u001b[0m\u001b[37m\u001b[0m \u001b[1m7s\u001b[0m 72ms/step - loss: 4231.9209\n",
            "Epoch 4/10\n",
            "\u001b[1m100/100\u001b[0m \u001b[32m━━━━━━━━━━━━━━━━━━━━\u001b[0m\u001b[37m\u001b[0m \u001b[1m8s\u001b[0m 78ms/step - loss: 3768.8018\n",
            "Epoch 5/10\n",
            "\u001b[1m100/100\u001b[0m \u001b[32m━━━━━━━━━━━━━━━━━━━━\u001b[0m\u001b[37m\u001b[0m \u001b[1m7s\u001b[0m 72ms/step - loss: 3432.9202\n",
            "Epoch 6/10\n",
            "\u001b[1m100/100\u001b[0m \u001b[32m━━━━━━━━━━━━━━━━━━━━\u001b[0m\u001b[37m\u001b[0m \u001b[1m8s\u001b[0m 78ms/step - loss: 3012.4404\n",
            "Epoch 7/10\n",
            "\u001b[1m100/100\u001b[0m \u001b[32m━━━━━━━━━━━━━━━━━━━━\u001b[0m\u001b[37m\u001b[0m \u001b[1m8s\u001b[0m 78ms/step - loss: 2804.3306\n",
            "Epoch 8/10\n",
            "\u001b[1m100/100\u001b[0m \u001b[32m━━━━━━━━━━━━━━━━━━━━\u001b[0m\u001b[37m\u001b[0m \u001b[1m7s\u001b[0m 72ms/step - loss: 2494.2898\n",
            "Epoch 9/10\n",
            "\u001b[1m100/100\u001b[0m \u001b[32m━━━━━━━━━━━━━━━━━━━━\u001b[0m\u001b[37m\u001b[0m \u001b[1m8s\u001b[0m 78ms/step - loss: 2319.1665\n",
            "Epoch 10/10\n",
            "\u001b[1m100/100\u001b[0m \u001b[32m━━━━━━━━━━━━━━━━━━━━\u001b[0m\u001b[37m\u001b[0m \u001b[1m7s\u001b[0m 71ms/step - loss: 2074.0002\n"
          ]
        },
        {
          "output_type": "stream",
          "name": "stderr",
          "text": [
            "WARNING:absl:You are saving your model as an HDF5 file via `model.save()` or `keras.saving.save_model(model)`. This file format is considered legacy. We recommend using instead the native Keras format, e.g. `model.save('my_model.keras')` or `keras.saving.save_model(model, 'my_model.keras')`. \n",
            "WARNING:absl:Compiled the loaded model, but the compiled metrics have yet to be built. `model.compile_metrics` will be empty until you train or evaluate the model.\n",
            "WARNING:absl:Compiled the loaded model, but the compiled metrics have yet to be built. `model.compile_metrics` will be empty until you train or evaluate the model.\n"
          ]
        },
        {
          "output_type": "stream",
          "name": "stdout",
          "text": [
            "✅ Model saved to model.h5\n"
          ]
        },
        {
          "output_type": "stream",
          "name": "stderr",
          "text": [
            "\r  0%|          | 0/100 [00:00<?, ?it/s]"
          ]
        },
        {
          "output_type": "stream",
          "name": "stdout",
          "text": [
            "\u001b[1m1/1\u001b[0m \u001b[32m━━━━━━━━━━━━━━━━━━━━\u001b[0m\u001b[37m\u001b[0m \u001b[1m0s\u001b[0m 112ms/step\n"
          ]
        },
        {
          "output_type": "stream",
          "name": "stderr",
          "text": [
            "\r  1%|          | 1/100 [00:00<00:19,  5.19it/s]"
          ]
        },
        {
          "output_type": "stream",
          "name": "stdout",
          "text": [
            "\u001b[1m1/1\u001b[0m \u001b[32m━━━━━━━━━━━━━━━━━━━━\u001b[0m\u001b[37m\u001b[0m \u001b[1m0s\u001b[0m 34ms/step\n"
          ]
        },
        {
          "output_type": "stream",
          "name": "stderr",
          "text": [
            "\r  2%|▏         | 2/100 [00:00<00:14,  6.89it/s]"
          ]
        },
        {
          "output_type": "stream",
          "name": "stdout",
          "text": [
            "\u001b[1m1/1\u001b[0m \u001b[32m━━━━━━━━━━━━━━━━━━━━\u001b[0m\u001b[37m\u001b[0m \u001b[1m0s\u001b[0m 42ms/step\n"
          ]
        },
        {
          "output_type": "stream",
          "name": "stderr",
          "text": [
            "\r  3%|▎         | 3/100 [00:00<00:13,  7.32it/s]"
          ]
        },
        {
          "output_type": "stream",
          "name": "stdout",
          "text": [
            "\u001b[1m1/1\u001b[0m \u001b[32m━━━━━━━━━━━━━━━━━━━━\u001b[0m\u001b[37m\u001b[0m \u001b[1m0s\u001b[0m 42ms/step\n"
          ]
        },
        {
          "output_type": "stream",
          "name": "stderr",
          "text": [
            "\r  4%|▍         | 4/100 [00:00<00:13,  7.36it/s]"
          ]
        },
        {
          "output_type": "stream",
          "name": "stdout",
          "text": [
            "\u001b[1m1/1\u001b[0m \u001b[32m━━━━━━━━━━━━━━━━━━━━\u001b[0m\u001b[37m\u001b[0m \u001b[1m0s\u001b[0m 48ms/step\n"
          ]
        },
        {
          "output_type": "stream",
          "name": "stderr",
          "text": [
            "\r  5%|▌         | 5/100 [00:00<00:12,  7.35it/s]"
          ]
        },
        {
          "output_type": "stream",
          "name": "stdout",
          "text": [
            "\u001b[1m1/1\u001b[0m \u001b[32m━━━━━━━━━━━━━━━━━━━━\u001b[0m\u001b[37m\u001b[0m \u001b[1m0s\u001b[0m 47ms/step\n"
          ]
        },
        {
          "output_type": "stream",
          "name": "stderr",
          "text": [
            "\r  6%|▌         | 6/100 [00:00<00:11,  7.99it/s]"
          ]
        },
        {
          "output_type": "stream",
          "name": "stdout",
          "text": [
            "\u001b[1m1/1\u001b[0m \u001b[32m━━━━━━━━━━━━━━━━━━━━\u001b[0m\u001b[37m\u001b[0m \u001b[1m0s\u001b[0m 46ms/step\n"
          ]
        },
        {
          "output_type": "stream",
          "name": "stderr",
          "text": [
            "\r  7%|▋         | 7/100 [00:00<00:10,  8.49it/s]"
          ]
        },
        {
          "output_type": "stream",
          "name": "stdout",
          "text": [
            "\u001b[1m1/1\u001b[0m \u001b[32m━━━━━━━━━━━━━━━━━━━━\u001b[0m\u001b[37m\u001b[0m \u001b[1m0s\u001b[0m 44ms/step\n",
            "\u001b[1m1/1\u001b[0m \u001b[32m━━━━━━━━━━━━━━━━━━━━\u001b[0m\u001b[37m\u001b[0m \u001b[1m0s\u001b[0m 43ms/step\n"
          ]
        },
        {
          "output_type": "stream",
          "name": "stderr",
          "text": [
            "\r  9%|▉         | 9/100 [00:01<00:10,  8.66it/s]"
          ]
        },
        {
          "output_type": "stream",
          "name": "stdout",
          "text": [
            "\u001b[1m1/1\u001b[0m \u001b[32m━━━━━━━━━━━━━━━━━━━━\u001b[0m\u001b[37m\u001b[0m \u001b[1m0s\u001b[0m 42ms/step\n"
          ]
        },
        {
          "output_type": "stream",
          "name": "stderr",
          "text": [
            "\r 10%|█         | 10/100 [00:01<00:10,  8.40it/s]"
          ]
        },
        {
          "output_type": "stream",
          "name": "stdout",
          "text": [
            "\u001b[1m1/1\u001b[0m \u001b[32m━━━━━━━━━━━━━━━━━━━━\u001b[0m\u001b[37m\u001b[0m \u001b[1m0s\u001b[0m 62ms/step\n"
          ]
        },
        {
          "output_type": "stream",
          "name": "stderr",
          "text": [
            "\r 11%|█         | 11/100 [00:01<00:11,  7.79it/s]"
          ]
        },
        {
          "output_type": "stream",
          "name": "stdout",
          "text": [
            "\u001b[1m1/1\u001b[0m \u001b[32m━━━━━━━━━━━━━━━━━━━━\u001b[0m\u001b[37m\u001b[0m \u001b[1m0s\u001b[0m 46ms/step\n"
          ]
        },
        {
          "output_type": "stream",
          "name": "stderr",
          "text": [
            "\r 12%|█▏        | 12/100 [00:01<00:10,  8.24it/s]"
          ]
        },
        {
          "output_type": "stream",
          "name": "stdout",
          "text": [
            "\u001b[1m1/1\u001b[0m \u001b[32m━━━━━━━━━━━━━━━━━━━━\u001b[0m\u001b[37m\u001b[0m \u001b[1m0s\u001b[0m 45ms/step\n"
          ]
        },
        {
          "output_type": "stream",
          "name": "stderr",
          "text": [
            "\r 13%|█▎        | 13/100 [00:01<00:10,  8.00it/s]"
          ]
        },
        {
          "output_type": "stream",
          "name": "stdout",
          "text": [
            "\u001b[1m1/1\u001b[0m \u001b[32m━━━━━━━━━━━━━━━━━━━━\u001b[0m\u001b[37m\u001b[0m \u001b[1m0s\u001b[0m 43ms/step\n",
            "\u001b[1m1/1\u001b[0m \u001b[32m━━━━━━━━━━━━━━━━━━━━\u001b[0m\u001b[37m\u001b[0m \u001b[1m0s\u001b[0m 46ms/step\n"
          ]
        },
        {
          "output_type": "stream",
          "name": "stderr",
          "text": [
            "\r 15%|█▌        | 15/100 [00:01<00:09,  8.94it/s]"
          ]
        },
        {
          "output_type": "stream",
          "name": "stdout",
          "text": [
            "\u001b[1m1/1\u001b[0m \u001b[32m━━━━━━━━━━━━━━━━━━━━\u001b[0m\u001b[37m\u001b[0m \u001b[1m0s\u001b[0m 42ms/step\n",
            "\u001b[1m1/1\u001b[0m \u001b[32m━━━━━━━━━━━━━━━━━━━━\u001b[0m\u001b[37m\u001b[0m \u001b[1m0s\u001b[0m 42ms/step\n"
          ]
        },
        {
          "output_type": "stream",
          "name": "stderr",
          "text": [
            "\r 17%|█▋        | 17/100 [00:02<00:09,  8.92it/s]"
          ]
        },
        {
          "output_type": "stream",
          "name": "stdout",
          "text": [
            "\u001b[1m1/1\u001b[0m \u001b[32m━━━━━━━━━━━━━━━━━━━━\u001b[0m\u001b[37m\u001b[0m \u001b[1m0s\u001b[0m 48ms/step\n"
          ]
        },
        {
          "output_type": "stream",
          "name": "stderr",
          "text": [
            "\r 18%|█▊        | 18/100 [00:02<00:09,  8.58it/s]"
          ]
        },
        {
          "output_type": "stream",
          "name": "stdout",
          "text": [
            "\u001b[1m1/1\u001b[0m \u001b[32m━━━━━━━━━━━━━━━━━━━━\u001b[0m\u001b[37m\u001b[0m \u001b[1m0s\u001b[0m 48ms/step\n"
          ]
        },
        {
          "output_type": "stream",
          "name": "stderr",
          "text": [
            "\r 19%|█▉        | 19/100 [00:02<00:09,  8.30it/s]"
          ]
        },
        {
          "output_type": "stream",
          "name": "stdout",
          "text": [
            "\u001b[1m1/1\u001b[0m \u001b[32m━━━━━━━━━━━━━━━━━━━━\u001b[0m\u001b[37m\u001b[0m \u001b[1m0s\u001b[0m 48ms/step\n"
          ]
        },
        {
          "output_type": "stream",
          "name": "stderr",
          "text": [
            "\r 20%|██        | 20/100 [00:02<00:10,  7.92it/s]"
          ]
        },
        {
          "output_type": "stream",
          "name": "stdout",
          "text": [
            "\u001b[1m1/1\u001b[0m \u001b[32m━━━━━━━━━━━━━━━━━━━━\u001b[0m\u001b[37m\u001b[0m \u001b[1m0s\u001b[0m 28ms/step\n",
            "\u001b[1m1/1\u001b[0m \u001b[32m━━━━━━━━━━━━━━━━━━━━\u001b[0m\u001b[37m\u001b[0m \u001b[1m0s\u001b[0m 30ms/step\n"
          ]
        },
        {
          "output_type": "stream",
          "name": "stderr",
          "text": [
            "\r 22%|██▏       | 22/100 [00:02<00:08,  9.75it/s]"
          ]
        },
        {
          "output_type": "stream",
          "name": "stdout",
          "text": [
            "\u001b[1m1/1\u001b[0m \u001b[32m━━━━━━━━━━━━━━━━━━━━\u001b[0m\u001b[37m\u001b[0m \u001b[1m0s\u001b[0m 29ms/step\n",
            "\u001b[1m1/1\u001b[0m \u001b[32m━━━━━━━━━━━━━━━━━━━━\u001b[0m\u001b[37m\u001b[0m \u001b[1m0s\u001b[0m 29ms/step\n"
          ]
        },
        {
          "output_type": "stream",
          "name": "stderr",
          "text": [
            "\r 24%|██▍       | 24/100 [00:02<00:06, 11.15it/s]"
          ]
        },
        {
          "output_type": "stream",
          "name": "stdout",
          "text": [
            "\u001b[1m1/1\u001b[0m \u001b[32m━━━━━━━━━━━━━━━━━━━━\u001b[0m\u001b[37m\u001b[0m \u001b[1m0s\u001b[0m 29ms/step\n",
            "\u001b[1m1/1\u001b[0m \u001b[32m━━━━━━━━━━━━━━━━━━━━\u001b[0m\u001b[37m\u001b[0m \u001b[1m0s\u001b[0m 27ms/step\n"
          ]
        },
        {
          "output_type": "stream",
          "name": "stderr",
          "text": [
            "\r 26%|██▌       | 26/100 [00:02<00:06, 12.20it/s]"
          ]
        },
        {
          "output_type": "stream",
          "name": "stdout",
          "text": [
            "\u001b[1m1/1\u001b[0m \u001b[32m━━━━━━━━━━━━━━━━━━━━\u001b[0m\u001b[37m\u001b[0m \u001b[1m0s\u001b[0m 30ms/step\n",
            "\u001b[1m1/1\u001b[0m \u001b[32m━━━━━━━━━━━━━━━━━━━━\u001b[0m\u001b[37m\u001b[0m \u001b[1m0s\u001b[0m 29ms/step\n"
          ]
        },
        {
          "output_type": "stream",
          "name": "stderr",
          "text": [
            "\r 28%|██▊       | 28/100 [00:03<00:05, 13.08it/s]"
          ]
        },
        {
          "output_type": "stream",
          "name": "stdout",
          "text": [
            "\u001b[1m1/1\u001b[0m \u001b[32m━━━━━━━━━━━━━━━━━━━━\u001b[0m\u001b[37m\u001b[0m \u001b[1m0s\u001b[0m 31ms/step\n",
            "\u001b[1m1/1\u001b[0m \u001b[32m━━━━━━━━━━━━━━━━━━━━\u001b[0m\u001b[37m\u001b[0m \u001b[1m0s\u001b[0m 28ms/step\n"
          ]
        },
        {
          "output_type": "stream",
          "name": "stderr",
          "text": [
            "\r 30%|███       | 30/100 [00:03<00:05, 13.54it/s]"
          ]
        },
        {
          "output_type": "stream",
          "name": "stdout",
          "text": [
            "\u001b[1m1/1\u001b[0m \u001b[32m━━━━━━━━━━━━━━━━━━━━\u001b[0m\u001b[37m\u001b[0m \u001b[1m0s\u001b[0m 29ms/step\n",
            "\u001b[1m1/1\u001b[0m \u001b[32m━━━━━━━━━━━━━━━━━━━━\u001b[0m\u001b[37m\u001b[0m \u001b[1m0s\u001b[0m 29ms/step\n"
          ]
        },
        {
          "output_type": "stream",
          "name": "stderr",
          "text": [
            "\r 32%|███▏      | 32/100 [00:03<00:04, 13.84it/s]"
          ]
        },
        {
          "output_type": "stream",
          "name": "stdout",
          "text": [
            "\u001b[1m1/1\u001b[0m \u001b[32m━━━━━━━━━━━━━━━━━━━━\u001b[0m\u001b[37m\u001b[0m \u001b[1m0s\u001b[0m 32ms/step\n",
            "\u001b[1m1/1\u001b[0m \u001b[32m━━━━━━━━━━━━━━━━━━━━\u001b[0m\u001b[37m\u001b[0m \u001b[1m0s\u001b[0m 33ms/step\n"
          ]
        },
        {
          "output_type": "stream",
          "name": "stderr",
          "text": [
            "\r 34%|███▍      | 34/100 [00:03<00:05, 12.92it/s]"
          ]
        },
        {
          "output_type": "stream",
          "name": "stdout",
          "text": [
            "\u001b[1m1/1\u001b[0m \u001b[32m━━━━━━━━━━━━━━━━━━━━\u001b[0m\u001b[37m\u001b[0m \u001b[1m0s\u001b[0m 27ms/step\n",
            "\u001b[1m1/1\u001b[0m \u001b[32m━━━━━━━━━━━━━━━━━━━━\u001b[0m\u001b[37m\u001b[0m \u001b[1m0s\u001b[0m 28ms/step\n"
          ]
        },
        {
          "output_type": "stream",
          "name": "stderr",
          "text": [
            "\r 36%|███▌      | 36/100 [00:03<00:04, 13.43it/s]"
          ]
        },
        {
          "output_type": "stream",
          "name": "stdout",
          "text": [
            "\u001b[1m1/1\u001b[0m \u001b[32m━━━━━━━━━━━━━━━━━━━━\u001b[0m\u001b[37m\u001b[0m \u001b[1m0s\u001b[0m 29ms/step\n",
            "\u001b[1m1/1\u001b[0m \u001b[32m━━━━━━━━━━━━━━━━━━━━\u001b[0m\u001b[37m\u001b[0m \u001b[1m0s\u001b[0m 29ms/step\n"
          ]
        },
        {
          "output_type": "stream",
          "name": "stderr",
          "text": [
            "\r 38%|███▊      | 38/100 [00:03<00:04, 13.80it/s]"
          ]
        },
        {
          "output_type": "stream",
          "name": "stdout",
          "text": [
            "\u001b[1m1/1\u001b[0m \u001b[32m━━━━━━━━━━━━━━━━━━━━\u001b[0m\u001b[37m\u001b[0m \u001b[1m0s\u001b[0m 30ms/step\n",
            "\u001b[1m1/1\u001b[0m \u001b[32m━━━━━━━━━━━━━━━━━━━━\u001b[0m\u001b[37m\u001b[0m \u001b[1m0s\u001b[0m 30ms/step\n"
          ]
        },
        {
          "output_type": "stream",
          "name": "stderr",
          "text": [
            "\r 40%|████      | 40/100 [00:03<00:04, 14.03it/s]"
          ]
        },
        {
          "output_type": "stream",
          "name": "stdout",
          "text": [
            "\u001b[1m1/1\u001b[0m \u001b[32m━━━━━━━━━━━━━━━━━━━━\u001b[0m\u001b[37m\u001b[0m \u001b[1m0s\u001b[0m 30ms/step\n",
            "\u001b[1m1/1\u001b[0m \u001b[32m━━━━━━━━━━━━━━━━━━━━\u001b[0m\u001b[37m\u001b[0m \u001b[1m0s\u001b[0m 28ms/step\n"
          ]
        },
        {
          "output_type": "stream",
          "name": "stderr",
          "text": [
            "\r 42%|████▏     | 42/100 [00:04<00:04, 14.19it/s]"
          ]
        },
        {
          "output_type": "stream",
          "name": "stdout",
          "text": [
            "\u001b[1m1/1\u001b[0m \u001b[32m━━━━━━━━━━━━━━━━━━━━\u001b[0m\u001b[37m\u001b[0m \u001b[1m0s\u001b[0m 28ms/step\n",
            "\u001b[1m1/1\u001b[0m \u001b[32m━━━━━━━━━━━━━━━━━━━━\u001b[0m\u001b[37m\u001b[0m \u001b[1m0s\u001b[0m 29ms/step\n"
          ]
        },
        {
          "output_type": "stream",
          "name": "stderr",
          "text": [
            "\r 44%|████▍     | 44/100 [00:04<00:03, 14.44it/s]"
          ]
        },
        {
          "output_type": "stream",
          "name": "stdout",
          "text": [
            "\u001b[1m1/1\u001b[0m \u001b[32m━━━━━━━━━━━━━━━━━━━━\u001b[0m\u001b[37m\u001b[0m \u001b[1m0s\u001b[0m 29ms/step\n",
            "\u001b[1m1/1\u001b[0m \u001b[32m━━━━━━━━━━━━━━━━━━━━\u001b[0m\u001b[37m\u001b[0m \u001b[1m0s\u001b[0m 30ms/step\n"
          ]
        },
        {
          "output_type": "stream",
          "name": "stderr",
          "text": [
            "\r 46%|████▌     | 46/100 [00:04<00:03, 14.58it/s]"
          ]
        },
        {
          "output_type": "stream",
          "name": "stdout",
          "text": [
            "\u001b[1m1/1\u001b[0m \u001b[32m━━━━━━━━━━━━━━━━━━━━\u001b[0m\u001b[37m\u001b[0m \u001b[1m0s\u001b[0m 29ms/step\n",
            "\u001b[1m1/1\u001b[0m \u001b[32m━━━━━━━━━━━━━━━━━━━━\u001b[0m\u001b[37m\u001b[0m \u001b[1m0s\u001b[0m 31ms/step\n"
          ]
        },
        {
          "output_type": "stream",
          "name": "stderr",
          "text": [
            "\r 48%|████▊     | 48/100 [00:04<00:03, 14.56it/s]"
          ]
        },
        {
          "output_type": "stream",
          "name": "stdout",
          "text": [
            "\u001b[1m1/1\u001b[0m \u001b[32m━━━━━━━━━━━━━━━━━━━━\u001b[0m\u001b[37m\u001b[0m \u001b[1m0s\u001b[0m 35ms/step\n",
            "\u001b[1m1/1\u001b[0m \u001b[32m━━━━━━━━━━━━━━━━━━━━\u001b[0m\u001b[37m\u001b[0m \u001b[1m0s\u001b[0m 27ms/step\n"
          ]
        },
        {
          "output_type": "stream",
          "name": "stderr",
          "text": [
            "\r 50%|█████     | 50/100 [00:04<00:03, 14.24it/s]"
          ]
        },
        {
          "output_type": "stream",
          "name": "stdout",
          "text": [
            "\u001b[1m1/1\u001b[0m \u001b[32m━━━━━━━━━━━━━━━━━━━━\u001b[0m\u001b[37m\u001b[0m \u001b[1m0s\u001b[0m 30ms/step\n",
            "\u001b[1m1/1\u001b[0m \u001b[32m━━━━━━━━━━━━━━━━━━━━\u001b[0m\u001b[37m\u001b[0m \u001b[1m0s\u001b[0m 29ms/step\n"
          ]
        },
        {
          "output_type": "stream",
          "name": "stderr",
          "text": [
            "\r 52%|█████▏    | 52/100 [00:04<00:03, 14.44it/s]"
          ]
        },
        {
          "output_type": "stream",
          "name": "stdout",
          "text": [
            "\u001b[1m1/1\u001b[0m \u001b[32m━━━━━━━━━━━━━━━━━━━━\u001b[0m\u001b[37m\u001b[0m \u001b[1m0s\u001b[0m 29ms/step\n",
            "\u001b[1m1/1\u001b[0m \u001b[32m━━━━━━━━━━━━━━━━━━━━\u001b[0m\u001b[37m\u001b[0m \u001b[1m0s\u001b[0m 30ms/step\n"
          ]
        },
        {
          "output_type": "stream",
          "name": "stderr",
          "text": [
            "\r 54%|█████▍    | 54/100 [00:04<00:03, 14.67it/s]"
          ]
        },
        {
          "output_type": "stream",
          "name": "stdout",
          "text": [
            "\u001b[1m1/1\u001b[0m \u001b[32m━━━━━━━━━━━━━━━━━━━━\u001b[0m\u001b[37m\u001b[0m \u001b[1m0s\u001b[0m 28ms/step\n",
            "\u001b[1m1/1\u001b[0m \u001b[32m━━━━━━━━━━━━━━━━━━━━\u001b[0m\u001b[37m\u001b[0m \u001b[1m0s\u001b[0m 31ms/step\n"
          ]
        },
        {
          "output_type": "stream",
          "name": "stderr",
          "text": [
            "\r 56%|█████▌    | 56/100 [00:05<00:03, 13.52it/s]"
          ]
        },
        {
          "output_type": "stream",
          "name": "stdout",
          "text": [
            "\u001b[1m1/1\u001b[0m \u001b[32m━━━━━━━━━━━━━━━━━━━━\u001b[0m\u001b[37m\u001b[0m \u001b[1m0s\u001b[0m 28ms/step\n",
            "\u001b[1m1/1\u001b[0m \u001b[32m━━━━━━━━━━━━━━━━━━━━\u001b[0m\u001b[37m\u001b[0m \u001b[1m0s\u001b[0m 28ms/step\n"
          ]
        },
        {
          "output_type": "stream",
          "name": "stderr",
          "text": [
            "\r 58%|█████▊    | 58/100 [00:05<00:02, 14.06it/s]"
          ]
        },
        {
          "output_type": "stream",
          "name": "stdout",
          "text": [
            "\u001b[1m1/1\u001b[0m \u001b[32m━━━━━━━━━━━━━━━━━━━━\u001b[0m\u001b[37m\u001b[0m \u001b[1m0s\u001b[0m 31ms/step\n",
            "\u001b[1m1/1\u001b[0m \u001b[32m━━━━━━━━━━━━━━━━━━━━\u001b[0m\u001b[37m\u001b[0m \u001b[1m0s\u001b[0m 28ms/step\n"
          ]
        },
        {
          "output_type": "stream",
          "name": "stderr",
          "text": [
            "\r 60%|██████    | 60/100 [00:05<00:02, 14.09it/s]"
          ]
        },
        {
          "output_type": "stream",
          "name": "stdout",
          "text": [
            "\u001b[1m1/1\u001b[0m \u001b[32m━━━━━━━━━━━━━━━━━━━━\u001b[0m\u001b[37m\u001b[0m \u001b[1m0s\u001b[0m 33ms/step\n",
            "\u001b[1m1/1\u001b[0m \u001b[32m━━━━━━━━━━━━━━━━━━━━\u001b[0m\u001b[37m\u001b[0m \u001b[1m0s\u001b[0m 28ms/step\n"
          ]
        },
        {
          "output_type": "stream",
          "name": "stderr",
          "text": [
            "\r 62%|██████▏   | 62/100 [00:05<00:02, 14.05it/s]"
          ]
        },
        {
          "output_type": "stream",
          "name": "stdout",
          "text": [
            "\u001b[1m1/1\u001b[0m \u001b[32m━━━━━━━━━━━━━━━━━━━━\u001b[0m\u001b[37m\u001b[0m \u001b[1m0s\u001b[0m 33ms/step\n",
            "\u001b[1m1/1\u001b[0m \u001b[32m━━━━━━━━━━━━━━━━━━━━\u001b[0m\u001b[37m\u001b[0m \u001b[1m0s\u001b[0m 31ms/step\n"
          ]
        },
        {
          "output_type": "stream",
          "name": "stderr",
          "text": [
            "\r 64%|██████▍   | 64/100 [00:05<00:02, 13.05it/s]"
          ]
        },
        {
          "output_type": "stream",
          "name": "stdout",
          "text": [
            "\u001b[1m1/1\u001b[0m \u001b[32m━━━━━━━━━━━━━━━━━━━━\u001b[0m\u001b[37m\u001b[0m \u001b[1m0s\u001b[0m 28ms/step\n",
            "\u001b[1m1/1\u001b[0m \u001b[32m━━━━━━━━━━━━━━━━━━━━\u001b[0m\u001b[37m\u001b[0m \u001b[1m0s\u001b[0m 32ms/step\n"
          ]
        },
        {
          "output_type": "stream",
          "name": "stderr",
          "text": [
            "\r 66%|██████▌   | 66/100 [00:05<00:02, 13.41it/s]"
          ]
        },
        {
          "output_type": "stream",
          "name": "stdout",
          "text": [
            "\u001b[1m1/1\u001b[0m \u001b[32m━━━━━━━━━━━━━━━━━━━━\u001b[0m\u001b[37m\u001b[0m \u001b[1m0s\u001b[0m 31ms/step\n",
            "\u001b[1m1/1\u001b[0m \u001b[32m━━━━━━━━━━━━━━━━━━━━\u001b[0m\u001b[37m\u001b[0m \u001b[1m0s\u001b[0m 28ms/step\n"
          ]
        },
        {
          "output_type": "stream",
          "name": "stderr",
          "text": [
            "\r 68%|██████▊   | 68/100 [00:05<00:02, 13.79it/s]"
          ]
        },
        {
          "output_type": "stream",
          "name": "stdout",
          "text": [
            "\u001b[1m1/1\u001b[0m \u001b[32m━━━━━━━━━━━━━━━━━━━━\u001b[0m\u001b[37m\u001b[0m \u001b[1m0s\u001b[0m 27ms/step\n",
            "\u001b[1m1/1\u001b[0m \u001b[32m━━━━━━━━━━━━━━━━━━━━\u001b[0m\u001b[37m\u001b[0m \u001b[1m0s\u001b[0m 29ms/step\n"
          ]
        },
        {
          "output_type": "stream",
          "name": "stderr",
          "text": [
            "\r 70%|███████   | 70/100 [00:06<00:02, 14.14it/s]"
          ]
        },
        {
          "output_type": "stream",
          "name": "stdout",
          "text": [
            "\u001b[1m1/1\u001b[0m \u001b[32m━━━━━━━━━━━━━━━━━━━━\u001b[0m\u001b[37m\u001b[0m \u001b[1m0s\u001b[0m 29ms/step\n",
            "\u001b[1m1/1\u001b[0m \u001b[32m━━━━━━━━━━━━━━━━━━━━\u001b[0m\u001b[37m\u001b[0m \u001b[1m0s\u001b[0m 30ms/step\n"
          ]
        },
        {
          "output_type": "stream",
          "name": "stderr",
          "text": [
            "\r 72%|███████▏  | 72/100 [00:06<00:01, 14.17it/s]"
          ]
        },
        {
          "output_type": "stream",
          "name": "stdout",
          "text": [
            "\u001b[1m1/1\u001b[0m \u001b[32m━━━━━━━━━━━━━━━━━━━━\u001b[0m\u001b[37m\u001b[0m \u001b[1m0s\u001b[0m 31ms/step\n",
            "\u001b[1m1/1\u001b[0m \u001b[32m━━━━━━━━━━━━━━━━━━━━\u001b[0m\u001b[37m\u001b[0m \u001b[1m0s\u001b[0m 33ms/step\n"
          ]
        },
        {
          "output_type": "stream",
          "name": "stderr",
          "text": [
            "\r 74%|███████▍  | 74/100 [00:06<00:01, 14.11it/s]"
          ]
        },
        {
          "output_type": "stream",
          "name": "stdout",
          "text": [
            "\u001b[1m1/1\u001b[0m \u001b[32m━━━━━━━━━━━━━━━━━━━━\u001b[0m\u001b[37m\u001b[0m \u001b[1m0s\u001b[0m 30ms/step\n",
            "\u001b[1m1/1\u001b[0m \u001b[32m━━━━━━━━━━━━━━━━━━━━\u001b[0m\u001b[37m\u001b[0m \u001b[1m0s\u001b[0m 30ms/step\n"
          ]
        },
        {
          "output_type": "stream",
          "name": "stderr",
          "text": [
            "\r 76%|███████▌  | 76/100 [00:06<00:01, 14.24it/s]"
          ]
        },
        {
          "output_type": "stream",
          "name": "stdout",
          "text": [
            "\u001b[1m1/1\u001b[0m \u001b[32m━━━━━━━━━━━━━━━━━━━━\u001b[0m\u001b[37m\u001b[0m \u001b[1m0s\u001b[0m 28ms/step\n",
            "\u001b[1m1/1\u001b[0m \u001b[32m━━━━━━━━━━━━━━━━━━━━\u001b[0m\u001b[37m\u001b[0m \u001b[1m0s\u001b[0m 30ms/step\n"
          ]
        },
        {
          "output_type": "stream",
          "name": "stderr",
          "text": [
            "\r 78%|███████▊  | 78/100 [00:06<00:01, 14.05it/s]"
          ]
        },
        {
          "output_type": "stream",
          "name": "stdout",
          "text": [
            "\u001b[1m1/1\u001b[0m \u001b[32m━━━━━━━━━━━━━━━━━━━━\u001b[0m\u001b[37m\u001b[0m \u001b[1m0s\u001b[0m 29ms/step\n",
            "\u001b[1m1/1\u001b[0m \u001b[32m━━━━━━━━━━━━━━━━━━━━\u001b[0m\u001b[37m\u001b[0m \u001b[1m0s\u001b[0m 30ms/step\n"
          ]
        },
        {
          "output_type": "stream",
          "name": "stderr",
          "text": [
            "\r 80%|████████  | 80/100 [00:06<00:01, 14.28it/s]"
          ]
        },
        {
          "output_type": "stream",
          "name": "stdout",
          "text": [
            "\u001b[1m1/1\u001b[0m \u001b[32m━━━━━━━━━━━━━━━━━━━━\u001b[0m\u001b[37m\u001b[0m \u001b[1m0s\u001b[0m 29ms/step\n",
            "\u001b[1m1/1\u001b[0m \u001b[32m━━━━━━━━━━━━━━━━━━━━\u001b[0m\u001b[37m\u001b[0m \u001b[1m0s\u001b[0m 30ms/step\n"
          ]
        },
        {
          "output_type": "stream",
          "name": "stderr",
          "text": [
            "\r 82%|████████▏ | 82/100 [00:06<00:01, 14.41it/s]"
          ]
        },
        {
          "output_type": "stream",
          "name": "stdout",
          "text": [
            "\u001b[1m1/1\u001b[0m \u001b[32m━━━━━━━━━━━━━━━━━━━━\u001b[0m\u001b[37m\u001b[0m \u001b[1m0s\u001b[0m 28ms/step\n",
            "\u001b[1m1/1\u001b[0m \u001b[32m━━━━━━━━━━━━━━━━━━━━\u001b[0m\u001b[37m\u001b[0m \u001b[1m0s\u001b[0m 31ms/step\n"
          ]
        },
        {
          "output_type": "stream",
          "name": "stderr",
          "text": [
            "\r 84%|████████▍ | 84/100 [00:06<00:01, 14.53it/s]"
          ]
        },
        {
          "output_type": "stream",
          "name": "stdout",
          "text": [
            "\u001b[1m1/1\u001b[0m \u001b[32m━━━━━━━━━━━━━━━━━━━━\u001b[0m\u001b[37m\u001b[0m \u001b[1m0s\u001b[0m 29ms/step\n",
            "\u001b[1m1/1\u001b[0m \u001b[32m━━━━━━━━━━━━━━━━━━━━\u001b[0m\u001b[37m\u001b[0m \u001b[1m0s\u001b[0m 35ms/step\n"
          ]
        },
        {
          "output_type": "stream",
          "name": "stderr",
          "text": [
            "\r 86%|████████▌ | 86/100 [00:07<00:01, 13.36it/s]"
          ]
        },
        {
          "output_type": "stream",
          "name": "stdout",
          "text": [
            "\u001b[1m1/1\u001b[0m \u001b[32m━━━━━━━━━━━━━━━━━━━━\u001b[0m\u001b[37m\u001b[0m \u001b[1m0s\u001b[0m 29ms/step\n",
            "\u001b[1m1/1\u001b[0m \u001b[32m━━━━━━━━━━━━━━━━━━━━\u001b[0m\u001b[37m\u001b[0m \u001b[1m0s\u001b[0m 32ms/step\n"
          ]
        },
        {
          "output_type": "stream",
          "name": "stderr",
          "text": [
            "\r 88%|████████▊ | 88/100 [00:07<00:00, 13.66it/s]"
          ]
        },
        {
          "output_type": "stream",
          "name": "stdout",
          "text": [
            "\u001b[1m1/1\u001b[0m \u001b[32m━━━━━━━━━━━━━━━━━━━━\u001b[0m\u001b[37m\u001b[0m \u001b[1m0s\u001b[0m 30ms/step\n",
            "\u001b[1m1/1\u001b[0m \u001b[32m━━━━━━━━━━━━━━━━━━━━\u001b[0m\u001b[37m\u001b[0m \u001b[1m0s\u001b[0m 30ms/step\n"
          ]
        },
        {
          "output_type": "stream",
          "name": "stderr",
          "text": [
            "\r 90%|█████████ | 90/100 [00:07<00:00, 13.78it/s]"
          ]
        },
        {
          "output_type": "stream",
          "name": "stdout",
          "text": [
            "\u001b[1m1/1\u001b[0m \u001b[32m━━━━━━━━━━━━━━━━━━━━\u001b[0m\u001b[37m\u001b[0m \u001b[1m0s\u001b[0m 30ms/step\n",
            "\u001b[1m1/1\u001b[0m \u001b[32m━━━━━━━━━━━━━━━━━━━━\u001b[0m\u001b[37m\u001b[0m \u001b[1m0s\u001b[0m 38ms/step\n"
          ]
        },
        {
          "output_type": "stream",
          "name": "stderr",
          "text": [
            "\r 92%|█████████▏| 92/100 [00:07<00:00, 13.64it/s]"
          ]
        },
        {
          "output_type": "stream",
          "name": "stdout",
          "text": [
            "\u001b[1m1/1\u001b[0m \u001b[32m━━━━━━━━━━━━━━━━━━━━\u001b[0m\u001b[37m\u001b[0m \u001b[1m0s\u001b[0m 30ms/step\n",
            "\u001b[1m1/1\u001b[0m \u001b[32m━━━━━━━━━━━━━━━━━━━━\u001b[0m\u001b[37m\u001b[0m \u001b[1m0s\u001b[0m 30ms/step\n"
          ]
        },
        {
          "output_type": "stream",
          "name": "stderr",
          "text": [
            "\r 94%|█████████▍| 94/100 [00:07<00:00, 13.97it/s]"
          ]
        },
        {
          "output_type": "stream",
          "name": "stdout",
          "text": [
            "\u001b[1m1/1\u001b[0m \u001b[32m━━━━━━━━━━━━━━━━━━━━\u001b[0m\u001b[37m\u001b[0m \u001b[1m0s\u001b[0m 30ms/step\n",
            "\u001b[1m1/1\u001b[0m \u001b[32m━━━━━━━━━━━━━━━━━━━━\u001b[0m\u001b[37m\u001b[0m \u001b[1m0s\u001b[0m 32ms/step\n"
          ]
        },
        {
          "output_type": "stream",
          "name": "stderr",
          "text": [
            "\r 96%|█████████▌| 96/100 [00:07<00:00, 14.01it/s]"
          ]
        },
        {
          "output_type": "stream",
          "name": "stdout",
          "text": [
            "\u001b[1m1/1\u001b[0m \u001b[32m━━━━━━━━━━━━━━━━━━━━\u001b[0m\u001b[37m\u001b[0m \u001b[1m0s\u001b[0m 32ms/step\n",
            "\u001b[1m1/1\u001b[0m \u001b[32m━━━━━━━━━━━━━━━━━━━━\u001b[0m\u001b[37m\u001b[0m \u001b[1m0s\u001b[0m 30ms/step\n"
          ]
        },
        {
          "output_type": "stream",
          "name": "stderr",
          "text": [
            "\r 98%|█████████▊| 98/100 [00:08<00:00, 13.01it/s]"
          ]
        },
        {
          "output_type": "stream",
          "name": "stdout",
          "text": [
            "\u001b[1m1/1\u001b[0m \u001b[32m━━━━━━━━━━━━━━━━━━━━\u001b[0m\u001b[37m\u001b[0m \u001b[1m0s\u001b[0m 29ms/step\n",
            "\u001b[1m1/1\u001b[0m \u001b[32m━━━━━━━━━━━━━━━━━━━━\u001b[0m\u001b[37m\u001b[0m \u001b[1m0s\u001b[0m 30ms/step\n"
          ]
        },
        {
          "output_type": "stream",
          "name": "stderr",
          "text": [
            "100%|██████████| 100/100 [00:08<00:00, 12.21it/s]"
          ]
        },
        {
          "output_type": "stream",
          "name": "stdout",
          "text": [
            "📈 AP@0.7 = 0.0000\n"
          ]
        },
        {
          "output_type": "stream",
          "name": "stderr",
          "text": [
            "\n"
          ]
        },
        {
          "output_type": "stream",
          "name": "stdout",
          "text": [
            "\u001b[1m1/1\u001b[0m \u001b[32m━━━━━━━━━━━━━━━━━━━━\u001b[0m\u001b[37m\u001b[0m \u001b[1m0s\u001b[0m 118ms/step\n",
            "\u001b[1m1/1\u001b[0m \u001b[32m━━━━━━━━━━━━━━━━━━━━\u001b[0m\u001b[37m\u001b[0m \u001b[1m0s\u001b[0m 30ms/step\n",
            "\u001b[1m1/1\u001b[0m \u001b[32m━━━━━━━━━━━━━━━━━━━━\u001b[0m\u001b[37m\u001b[0m \u001b[1m0s\u001b[0m 38ms/step\n"
          ]
        },
        {
          "output_type": "display_data",
          "data": {
            "text/plain": [
              "<Figure size 1200x400 with 3 Axes>"
            ],
            "image/png": "[encoded data removed]"
          },
          "metadata": {}
        }
      ],
      "source": [
        "# === EXECUTION BLOCK ===\n",
        "train_model(epochs=10)\n",
        "\n",
        "# Load the saved model\n",
        "model = keras.models.load_model(\"model.h5\")\n",
        "\n",
        "# Evaluate on 100 test samples\n",
        "evaluate_model()\n",
        "\n",
        "# Show true vs. predicted bounding boxes\n",
        "show_examples(model)\n",
        "\n"
      ]
    },
    {
      "cell_type": "markdown",
      "metadata": {
        "id": "chY8vPLE3_bT"
      },
      "source": [
        "If you want to make it harder: you can add noise and lines all the way back up in,\n",
        "\n",
        "\n",
        "def make_data(image_size=200, noise_level=0.0, salt_pepper_prob=0.0, no_lines=0):"
      ]
    }
  ],
  "metadata": {
    "accelerator": "GPU",
    "colab": {
      "gpuType": "T4",
      "provenance": [],
      "include_colab_link": true
    },
    "kernelspec": {
      "display_name": "Python 3",
      "name": "python3"
    },
    "language_info": {
      "name": "python"
    }
  },
  "nbformat": 4,
  "nbformat_minor": 0
}